{
 "cells": [
  {
   "cell_type": "code",
   "execution_count": 1,
   "metadata": {},
   "outputs": [],
   "source": [
    "from osgeo import gdal\n",
    "import os\n",
    "\n",
    "# 矢量数据的路径\n",
    "tif = r\"F:\\20230426校园\\result.tif\""
   ]
  },
  {
   "cell_type": "code",
   "execution_count": 2,
   "metadata": {},
   "outputs": [
    {
     "name": "stdout",
     "output_type": "stream",
     "text": [
      "栅格的详细信息：\n",
      "<osgeo.gdal.Dataset; proxy of <Swig Object of type 'GDALDatasetShadow *' at 0x000002806627C360> >\n",
      "栅格的宽度：\n",
      "10121\n",
      "栅格的高度：\n",
      "13015\n",
      "栅格的波段数：\n",
      "4\n",
      "栅格的投影信息：\n",
      "GEOGCS[\"WGS 84\",DATUM[\"WGS_1984\",SPHEROID[\"WGS 84\",6378137,298.257223563,AUTHORITY[\"EPSG\",\"7030\"]],AUTHORITY[\"EPSG\",\"6326\"]],PRIMEM[\"Greenwich\",0],UNIT[\"degree\",0.0174532925199433],AUTHORITY[\"EPSG\",\"4326\"]]\n",
      "栅格的地理变换信息：\n",
      "(114.29686812859407, 1.1946778073479436e-06, 0.0, 34.82429582911058, 0.0, -9.852145410604862e-07)\n",
      "波段1的最大值：\n",
      "255.0\n",
      "波段1的最小值：\n",
      "11.0\n",
      "波段1的NoData值：\n",
      "0.0\n",
      "波段2的最大值：\n",
      "254.0\n",
      "波段2的最小值：\n",
      "16.0\n",
      "波段2的NoData值：\n",
      "0.0\n",
      "波段3的最大值：\n",
      "254.0\n",
      "波段3的最小值：\n",
      "4.0\n",
      "波段3的NoData值：\n",
      "0.0\n",
      "波段4的最大值：\n",
      "255.0\n",
      "波段4的最小值：\n",
      "32.0\n",
      "波段4的NoData值：\n",
      "0.0\n",
      "(4, 13015, 10121)\n"
     ]
    }
   ],
   "source": [
    "def printInfo(tif_path):\n",
    "    tif = gdal.Open(tif_path)\n",
    "    # 输出栅格的详细信息\n",
    "    print(\"栅格的详细信息：\")\n",
    "    print(tif)\n",
    "    # 输出栅格的宽度\n",
    "    print(\"栅格的宽度：\")\n",
    "    print(tif.RasterXSize)\n",
    "    # 输出栅格的高度\n",
    "    print(\"栅格的高度：\")\n",
    "    print(tif.RasterYSize)\n",
    "    # 输出栅格的波段数\n",
    "    print(\"栅格的波段数：\")\n",
    "    print(tif.RasterCount)\n",
    "    # 输出栅格的投影信息\n",
    "    print(\"栅格的投影信息：\")\n",
    "    print(tif.GetProjection())\n",
    "    # 输出栅格的地理变换信息\n",
    "    print(\"栅格的地理变换信息：\")\n",
    "    print(tif.GetGeoTransform())\n",
    "    # 输出各个波段的信息\n",
    "    for i in range(tif.RasterCount):\n",
    "        band = tif.GetRasterBand(i + 1)\n",
    "        print(\"波段{}的最大值：\".format(i + 1))\n",
    "        print(band.GetMaximum())\n",
    "        print(\"波段{}的最小值：\".format(i + 1))\n",
    "        print(band.GetMinimum())\n",
    "        print(\"波段{}的NoData值：\".format(i + 1))\n",
    "        print(band.GetNoDataValue())\n",
    "    return tif.ReadAsArray().astype(int)\n",
    "tif_array = printInfo(tif)\n",
    "print(tif_array.shape)"
   ]
  },
  {
   "cell_type": "code",
   "execution_count": 3,
   "metadata": {},
   "outputs": [
    {
     "name": "stdout",
     "output_type": "stream",
     "text": [
      "正在计算NDVI...\n",
      "NDVI的最大值：\n",
      "1.0\n",
      "NDVI的最小值：\n",
      "0.0\n"
     ]
    }
   ],
   "source": [
    "# 第一波段为Red，第二波段为Green，第三波段为Blue，第四波段为NIR\n",
    "# 计算NDVI\n",
    "def add_NDVI(tif_array):\n",
    "    print(\"正在计算NDVI...\")\n",
    "    tif_array = tif_array.astype(float)\n",
    "    # 创建一个和tif_array一样大小的数组，用来存放NDVI\n",
    "    NDVI = tif_array[0].copy()\n",
    "    for i in range(tif_array.shape[1]):\n",
    "        for j in range(tif_array.shape[2]):\n",
    "            if tif_array[3][i][j] + tif_array[0][i][j] == 0:\n",
    "                NDVI[i][j] = 0\n",
    "            else:\n",
    "                NDVI[i][j] = (tif_array[3][i][j] - tif_array[0][i][j]) / (tif_array[3][i][j] + tif_array[0][i][j])\n",
    "    return NDVI\n",
    "\n",
    "NDVI = add_NDVI(tif_array)\n",
    "\n",
    "# 输出NDVI的最大值\n",
    "print(\"NDVI的最大值：\")\n",
    "print(NDVI.max())\n",
    "# 输出NDVI的最小值\n",
    "print(\"NDVI的最小值：\")\n",
    "print(NDVI.min())"
   ]
  },
  {
   "cell_type": "code",
   "execution_count": 4,
   "metadata": {},
   "outputs": [
    {
     "name": "stdout",
     "output_type": "stream",
     "text": [
      "正在计算NDVI...\n"
     ]
    },
    {
     "name": "stdout",
     "output_type": "stream",
     "text": [
      "NDVI的最大值：\n",
      "1.0\n",
      "NDVI的最小值：\n",
      "0.0\n"
     ]
    }
   ],
   "source": [
    "import numpy as np\n",
    "def add_NDVI_optimized(tif_array):\n",
    "    print(\"正在计算NDVI...\")\n",
    "    # 将tif_array转换为int类型\n",
    "    tif_array = tif_array.astype(float)\n",
    "    # 计算红外波段和红色波段的像素值之和\n",
    "    sum_bands = tif_array[3, :, :] + tif_array[0, :, :]\n",
    "    NDVI = np.zeros_like(tif_array[0, :, :])\n",
    "    # 计算NDVI\n",
    "    NDVI[sum_bands == 0] = 0\n",
    "    NDVI[sum_bands != 0] = (tif_array[3, :, :][sum_bands != 0] - tif_array[0, :, :][sum_bands != 0]) / sum_bands[sum_bands != 0]\n",
    "    return NDVI\n",
    "\n",
    "NDVI_optimized = add_NDVI_optimized(tif_array)\n",
    "# 输出NDVI的最大值\n",
    "print(\"NDVI的最大值：\")\n",
    "print(NDVI_optimized.max())\n",
    "# 输出NDVI的最小值\n",
    "print(\"NDVI的最小值：\")\n",
    "print(NDVI_optimized.min())"
   ]
  },
  {
   "cell_type": "code",
   "execution_count": 5,
   "metadata": {},
   "outputs": [
    {
     "name": "stdout",
     "output_type": "stream",
     "text": [
      "两个NDVI计算结果是否一致：\n",
      "True\n"
     ]
    }
   ],
   "source": [
    "# 对比两个ndvi的计算结果是否一致\n",
    "print(\"两个NDVI计算结果是否一致：\")\n",
    "print(np.allclose(NDVI, NDVI_optimized))\n"
   ]
  },
  {
   "cell_type": "code",
   "execution_count": 6,
   "metadata": {},
   "outputs": [
    {
     "name": "stdout",
     "output_type": "stream",
     "text": [
      "(5, 13015, 10121)\n"
     ]
    }
   ],
   "source": [
    "# 将计算出的NDVI加入到tif_array中\n",
    "tif_array = np.concatenate((tif_array, NDVI.reshape(1, tif_array.shape[1], tif_array.shape[2])), axis=0)\n",
    "print(tif_array.shape)\n"
   ]
  },
  {
   "cell_type": "code",
   "execution_count": 7,
   "metadata": {},
   "outputs": [
    {
     "name": "stdout",
     "output_type": "stream",
     "text": [
      "新的tif文件保存成功！\n"
     ]
    }
   ],
   "source": [
    "# 保存为新的tif文件\n",
    "def save_tif(tif_array, tif_path, save_path):\n",
    "    # 获取原始tif文件的信息\n",
    "    tif = gdal.Open(tif_path)\n",
    "    # 获取原始tif文件的波段数\n",
    "    bands = tif.RasterCount\n",
    "    # 获取原始tif文件的地理变换信息\n",
    "    geotransform = tif.GetGeoTransform()\n",
    "    # 获取原始tif文件的投影信息\n",
    "    projection = tif.GetProjection()\n",
    "    # 获取原始tif文件的宽度\n",
    "    width = tif.RasterXSize\n",
    "    # 获取原始tif文件的高度\n",
    "    height = tif.RasterYSize\n",
    "    # 创建一个新的tif文件\n",
    "    driver = gdal.GetDriverByName(\"GTiff\")\n",
    "    # 创建一个和原始tif文件一样大小的tif文件\n",
    "    new_tif = driver.Create(save_path, width, height, bands + 1, gdal.GDT_Float32)\n",
    "    # 将tif_array中的数据写入到新的tif文件中\n",
    "    for i in range(bands + 1):\n",
    "        new_tif.GetRasterBand(i + 1).WriteArray(tif_array[i])\n",
    "    # 将地理变换信息写入到新的tif文件中\n",
    "    new_tif.SetGeoTransform(geotransform)\n",
    "    # 将投影信息写入到新的tif文件中\n",
    "    new_tif.SetProjection(projection)\n",
    "    # 释放资源\n",
    "    del new_tif\n",
    "    print(\"新的tif文件保存成功！\")\n",
    "save_tif(tif_array, tif, r\"F:\\20230426校园\\result_with_ndvi.tif\")"
   ]
  },
  {
   "cell_type": "code",
   "metadata": {
    "ExecuteTime": {
     "end_time": "2024-07-01T02:53:08.712161Z",
     "start_time": "2024-07-01T02:53:07.988573Z"
    }
   },
   "source": [
    "import arcpy\n",
    "\n",
    "arcpy.env.overwriteOutput = True\n",
    "\n",
    "shp_path = r\"F:\\20230426校园\\label.shp\"\n",
    "\n",
    "out_raster_path = r\"F:\\20230426校园\\label02.tif\"\n",
    "# 输出矢量数据的字段\n",
    "arcpy.ListFields(shp_path)\n",
    "for field in arcpy.ListFields(shp_path):\n",
    "    print(field.name)\n",
    "# 增加字段\n",
    "arcpy.CalculateField_management(shp_path,'Num',\"'int(!Class!)'\", 'Python3')\n",
    "# 将shp文件转换为栅格文件\n",
    "arcpy.FeatureToRaster_conversion(in_features=shp_path, field=\"Num\", out_raster=out_raster_path, cell_size=1)\n",
    "\n",
    "print(\"shp文件转换为栅格文件成功！\")"
   ],
   "outputs": [
    {
     "name": "stdout",
     "output_type": "stream",
     "text": [
      "FID\n",
      "Shape\n",
      "Id\n",
      "Class\n",
      "Num\n",
      "shp文件转换为栅格文件成功！\n"
     ]
    }
   ],
   "execution_count": 15
  }
 ],
 "metadata": {
  "kernelspec": {
   "display_name": "arcgispro-py3",
   "language": "python",
   "name": "python3"
  },
  "language_info": {
   "codemirror_mode": {
    "name": "ipython",
    "version": 3
   },
   "file_extension": ".py",
   "mimetype": "text/x-python",
   "name": "python",
   "nbconvert_exporter": "python",
   "pygments_lexer": "ipython3",
   "version": "3.9.11"
  }
 },
 "nbformat": 4,
 "nbformat_minor": 2
}
